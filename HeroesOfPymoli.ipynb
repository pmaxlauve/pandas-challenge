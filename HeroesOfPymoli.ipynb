{
 "cells": [
  {
   "cell_type": "markdown",
   "metadata": {},
   "source": [
    "### Note\n",
    "* Instructions have been included for each segment. You do not have to follow them exactly, but they are included to help you think through the steps."
   ]
  },
  {
   "cell_type": "code",
   "execution_count": 3,
   "metadata": {},
   "outputs": [],
   "source": [
    "# Dependencies and Setup\n",
    "import pandas as pd\n",
    "\n",
    "# File to Load (Remember to Change These)\n",
    "file_to_load = \"C:\\\\Users\\\\pmaxl\\\\Downloads\\\\purchase_data.csv\"\n",
    "\n",
    "# Read Purchasing File and store into Pandas data frame\n",
    "purchase_data = pd.read_csv(file_to_load)"
   ]
  },
  {
   "cell_type": "markdown",
   "metadata": {},
   "source": [
    "## Player Count"
   ]
  },
  {
   "cell_type": "markdown",
   "metadata": {},
   "source": [
    "* Display the total number of players\n"
   ]
  },
  {
   "cell_type": "code",
   "execution_count": 4,
   "metadata": {},
   "outputs": [
    {
     "name": "stdout",
     "output_type": "stream",
     "text": [
      "Total Players\n",
      "=================\n",
      "576\n"
     ]
    }
   ],
   "source": [
    "#determine total number of players\n",
    "Total_Players = len(purchase_data[\"SN\"].unique())\n",
    "\n",
    "\n",
    "print(\"Total Players\")\n",
    "print(\"=================\")\n",
    "print(Total_Players)"
   ]
  },
  {
   "cell_type": "markdown",
   "metadata": {},
   "source": [
    "## Purchasing Analysis (Total)"
   ]
  },
  {
   "cell_type": "markdown",
   "metadata": {},
   "source": [
    "* Run basic calculations to obtain number of unique items, average price, etc.\n",
    "\n",
    "\n",
    "* Create a summary data frame to hold the results\n",
    "\n",
    "\n",
    "* Optional: give the displayed data cleaner formatting\n",
    "\n",
    "\n",
    "* Display the summary data frame\n"
   ]
  },
  {
   "cell_type": "code",
   "execution_count": 5,
   "metadata": {
    "scrolled": true
   },
   "outputs": [
    {
     "name": "stdout",
     "output_type": "stream",
     "text": [
      "   Unique Items Average Price  Number of Purchases Total Revenue\n",
      "0           179         $3.05                  780      $2379.77\n"
     ]
    }
   ],
   "source": [
    "#create dictionary to make a dataframe\n",
    "summary_data = {\"Unique Items\": len(purchase_data[\"Item Name\"].unique()),\n",
    "                \"Average Price\": \"$\" + str(round(purchase_data[\"Price\"].mean(), 2)),\n",
    "                \"Number of Purchases\": len(purchase_data),\n",
    "                \"Total Revenue\": \"$\" + str(round(purchase_data[\"Price\"].sum(), 2))}\n",
    "\n",
    "#assign summary_data to dataframe\n",
    "summary_df = pd.DataFrame(summary_data, index = [0])\n",
    "print(summary_df)\n"
   ]
  },
  {
   "cell_type": "markdown",
   "metadata": {},
   "source": [
    "## Gender Demographics"
   ]
  },
  {
   "cell_type": "markdown",
   "metadata": {},
   "source": [
    "* Percentage and Count of Male Players\n",
    "\n",
    "\n",
    "* Percentage and Count of Female Players\n",
    "\n",
    "\n",
    "* Percentage and Count of Other / Non-Disclosed\n",
    "\n",
    "\n"
   ]
  },
  {
   "cell_type": "code",
   "execution_count": 7,
   "metadata": {},
   "outputs": [
    {
     "name": "stdout",
     "output_type": "stream",
     "text": [
      "                     Total Count Percentage of Players\n",
      "Male                         484                84.03%\n",
      "Female                        81                14.06%\n",
      "Other/Non-disclosed           11                 1.91%\n"
     ]
    }
   ],
   "source": [
    "#create a new dataframe with only unique players\n",
    "unq_players = purchase_data.drop_duplicates(subset = \"SN\").copy()\n",
    "\n",
    "# number of unique players\n",
    "gen_tot= len(unq_players)\n",
    "\n",
    "# number of male players\n",
    "gen_male = len(unq_players[unq_players[\"Gender\"] == \"Male\"])\n",
    "\n",
    "#number of female players\n",
    "gen_female = len(unq_players[unq_players[\"Gender\"] == \"Female\"])\n",
    "\n",
    "# number of other/non-disclosed players\n",
    "gen_na = len(unq_players[unq_players[\"Gender\"] == \"Other / Non-Disclosed\"])\n",
    "\n",
    "#assign variables to dictionary\n",
    "gen_data = {\"Total Count\": [gen_male, gen_female, gen_na],\n",
    "            \"Percentage of Players\": [str(round(gen_male/gen_tot*100, 2)) + \"%\", \n",
    "                                      str(round(gen_female/gen_tot*100, 2)) + \"%\", \n",
    "                                      str(round(gen_na/gen_tot*100, 2)) + \"%\"]}\n",
    "\n",
    "#create a list to assign as the index\n",
    "gens = [\"Male\", \"Female\", \"Other/Non-disclosed\"]\n",
    "\n",
    "#create dataframe using gen_data and gens\n",
    "gen_df = pd.DataFrame(gen_data, index = gens)\n",
    "print(gen_df)"
   ]
  },
  {
   "cell_type": "markdown",
   "metadata": {},
   "source": [
    "\n",
    "## Purchasing Analysis (Gender)"
   ]
  },
  {
   "cell_type": "markdown",
   "metadata": {},
   "source": [
    "* Run basic calculations to obtain purchase count, avg. purchase price, avg. purchase total per person etc. by gender\n",
    "\n",
    "\n",
    "\n",
    "\n",
    "* Create a summary data frame to hold the results\n",
    "\n",
    "\n",
    "* Optional: give the displayed data cleaner formatting\n",
    "\n",
    "\n",
    "* Display the summary data frame"
   ]
  },
  {
   "cell_type": "code",
   "execution_count": 8,
   "metadata": {},
   "outputs": [
    {
     "name": "stdout",
     "output_type": "stream",
     "text": [
      "                     Purchase Count Average Purchase Price  \\\n",
      "Female                          113                  $3.20   \n",
      "Male                            652                  $3.02   \n",
      "Other/Non-disclosed              15                  $3.35   \n",
      "\n",
      "                    Total Purchase Value Avg Total Purchase per Person  \n",
      "Female                           $361.94                         $4.47  \n",
      "Male                            $1967.64                         $4.07  \n",
      "Other/Non-disclosed               $50.19                         $4.56  \n"
     ]
    }
   ],
   "source": [
    "#determine total number of purchases by male players\n",
    "male_count = len(purchase_data[purchase_data[\"Gender\"] == \"Male\"])\n",
    "\n",
    "#determine total number of purchases by female players\n",
    "female_count = len(purchase_data[purchase_data[\"Gender\"] == \"Female\"])\n",
    "\n",
    "#determine total number of purchases by other/non-disclosed players\n",
    "na_count = len(purchase_data[purchase_data[\"Gender\"] == \"Other / Non-Disclosed\"])\n",
    "\n",
    "#determine the average purchase amount per gender\n",
    "gen_grouped_mean = purchase_data.groupby(\"Gender\")[\"Price\"].mean()\n",
    "\n",
    "#determine the total purchase amount per gender\n",
    "gen_grouped_total = purchase_data.groupby(\"Gender\")[\"Price\"].sum()\n",
    "\n",
    "#create dictionary to assign to dataframe\n",
    "gen_data2 = {\"Purchase Count\": [female_count, male_count, na_count],\n",
    "            \"Average Purchase Price\": [\"$\" + str(\"{:.2f}\".format(gen_grouped_mean.iloc[0])), \n",
    "                                       \"$\"+ str(\"{:.2f}\".format(gen_grouped_mean.iloc[1])), \n",
    "                                       \"$\"+ str(\"{:.2f}\".format(gen_grouped_mean.iloc[2]))],\n",
    "            \"Total Purchase Value\": [\"$\" + str(\"{:.2f}\".format(gen_grouped_total.iloc[0])), \n",
    "                                     \"$\"+ str(\"{:.2f}\".format(gen_grouped_total.iloc[1])), \n",
    "                                     \"$\"+ str(\"{:.2f}\".format(gen_grouped_total.iloc[2]))],\n",
    "            \"Avg Total Purchase per Person\": [\"$\" + str(\"{:.2f}\".format(gen_grouped_total.iloc[0]/gen_female)), \n",
    "                                              \"$\"+ str(\"{:.2f}\".format(gen_grouped_total.iloc[1]/gen_male)), \n",
    "                                              \"$\"+ str(\"{:.2f}\".format(gen_grouped_total.iloc[2]/gen_na))]}\n",
    "#assign data to dataframe\n",
    "gen_df2 = pd.DataFrame(gen_data2, index = sorted(gens))\n",
    "print(gen_df2)"
   ]
  },
  {
   "cell_type": "markdown",
   "metadata": {},
   "source": [
    "## Age Demographics"
   ]
  },
  {
   "cell_type": "markdown",
   "metadata": {},
   "source": [
    "* Establish bins for ages\n",
    "\n",
    "\n",
    "* Categorize the existing players using the age bins. Hint: use pd.cut()\n",
    "\n",
    "\n",
    "* Calculate the numbers and percentages by age group\n",
    "\n",
    "\n",
    "* Create a summary data frame to hold the results\n",
    "\n",
    "\n",
    "* Optional: round the percentage column to two decimal points\n",
    "\n",
    "\n",
    "* Display Age Demographics Table\n"
   ]
  },
  {
   "cell_type": "code",
   "execution_count": 9,
   "metadata": {},
   "outputs": [
    {
     "name": "stdout",
     "output_type": "stream",
     "text": [
      "       Total Count Percentage of Players\n",
      "<10             17                 2.95%\n",
      "10-14           22                 3.82%\n",
      "15-19          107                18.58%\n",
      "20-24          258                44.79%\n",
      "25-29           77                13.37%\n",
      "30-34           52                 9.03%\n",
      "35-39           31                 5.38%\n",
      "40+             12                 2.08%\n"
     ]
    }
   ],
   "source": [
    "#create bins\n",
    "bins = [0, 9, 14, 19, 24, 29, 34, 39, 100]\n",
    "\n",
    "#create bin labels\n",
    "bin_labels = [\"<10\", \"10-14\", \"15-19\", \"20-24\", \"25-29\", \"30-34\", \"35-39\", \"40+\"]\n",
    "\n",
    "#add bins to the datafram unq_players\n",
    "unq_players[\"Age Range\"] = pd.cut(unq_players[\"Age\"], bins, labels=bin_labels)\n",
    "\n",
    "#count number of players in each bin\n",
    "age_grouped = unq_players.groupby(\"Age Range\")[\"Age\"].count()\n",
    "\n",
    "#create dictionary to assign to dataframe\n",
    "age_data = {\"Total Count\": age_grouped,\n",
    "           \"Percentage of Players\": [str(round(age_grouped[0]/Total_Players * 100, 2)) + \"%\", str(round(age_grouped[1]/Total_Players * 100, 2)) + \"%\",\n",
    "                                      str(round(age_grouped[2]/Total_Players * 100, 2)) + \"%\", str(round(age_grouped[3]/Total_Players * 100, 2)) + \"%\",\n",
    "                                      str(round(age_grouped[4]/Total_Players * 100, 2)) + \"%\", str(round(age_grouped[5]/Total_Players * 100, 2)) + \"%\",\n",
    "                                      str(round(age_grouped[6]/Total_Players * 100, 2)) + \"%\", str(round(age_grouped[7]/Total_Players * 100, 2)) + \"%\"]}\n",
    "#create dataframe from dictionary using bin_labels as the index\n",
    "age_df = pd.DataFrame(age_data, index = bin_labels)\n",
    "\n",
    "print(age_df)\n"
   ]
  },
  {
   "cell_type": "markdown",
   "metadata": {},
   "source": [
    "## Purchasing Analysis (Age)"
   ]
  },
  {
   "cell_type": "markdown",
   "metadata": {},
   "source": [
    "* Bin the purchase_data data frame by age\n",
    "\n",
    "\n",
    "* Run basic calculations to obtain purchase count, avg. purchase price, avg. purchase total per person etc. in the table below\n",
    "\n",
    "\n",
    "* Create a summary data frame to hold the results\n",
    "\n",
    "\n",
    "* Optional: give the displayed data cleaner formatting\n",
    "\n",
    "\n",
    "* Display the summary data frame"
   ]
  },
  {
   "cell_type": "code",
   "execution_count": 10,
   "metadata": {},
   "outputs": [
    {
     "name": "stdout",
     "output_type": "stream",
     "text": [
      "       Purchase Count Average Purchase Price Total Purchase Value  \\\n",
      "<10                23                  $3.35               $77.13   \n",
      "10-14              28                  $2.96               $82.78   \n",
      "15-19             136                  $3.04              $412.89   \n",
      "20-24             365                  $3.05             $1114.06   \n",
      "25-29             101                  $2.90              $293.00   \n",
      "30-34              73                  $2.93              $214.00   \n",
      "35-39              41                  $3.60              $147.67   \n",
      "40+                13                  $2.94               $38.24   \n",
      "\n",
      "      Avg Total Purchase per Person  \n",
      "<10                           $4.54  \n",
      "10-14                         $3.76  \n",
      "15-19                         $3.86  \n",
      "20-24                         $4.32  \n",
      "25-29                         $3.81  \n",
      "30-34                         $4.12  \n",
      "35-39                         $4.76  \n",
      "40+                           $3.19  \n"
     ]
    }
   ],
   "source": [
    "#repeat the bins on the dataframe purchase_data\n",
    "bins = [0, 9, 14, 19, 24, 29, 34, 39, 100]\n",
    "bin_labels = [\"<10\", \"10-14\", \"15-19\", \"20-24\", \"25-29\", \"30-34\", \"35-39\", \"40+\"]\n",
    "purchase_data[\"Age Range\"] = pd.cut(purchase_data[\"Age\"], bins, labels=bin_labels)\n",
    "\n",
    "#determine the number of purchases by each age range\n",
    "age_pr_count = purchase_data.groupby(\"Age Range\")[\"Purchase ID\"].count()\n",
    "\n",
    "#determine the average purchase amount by each age range\n",
    "age_avg_pr = purchase_data.groupby(\"Age Range\")[\"Price\"].mean()\n",
    "\n",
    "#determine the total money spent by each age range\n",
    "age_pr_total = purchase_data.groupby(\"Age Range\")[\"Price\"].sum()\n",
    "\n",
    "#determine the amount spent per player in each age range\n",
    "avg_per_person = (purchase_data.groupby(\"Age Range\")[\"Price\"].sum())/(unq_players.groupby(\"Age Range\")[\"Age\"].count())\n",
    "\n",
    "\n",
    "#create dictionary to assign to dataframe\n",
    "age_data2 = {\"Purchase Count\": age_pr_count,\n",
    "            \"Average Purchase Price\": [\"$\" + str(\"{:.2f}\".format(age_avg_pr.iloc[0])), \"$\" + str(\"{:.2f}\".format(age_avg_pr.iloc[1])),\n",
    "                                       \"$\" + str(\"{:.2f}\".format(age_avg_pr.iloc[2])), \"$\" + str(\"{:.2f}\".format(age_avg_pr.iloc[3])),\n",
    "                                       \"$\" + str(\"{:.2f}\".format(age_avg_pr.iloc[4])), \"$\" + str(\"{:.2f}\".format(age_avg_pr.iloc[5])),\n",
    "                                       \"$\" + str(\"{:.2f}\".format(age_avg_pr.iloc[6])), \"$\" + str(\"{:.2f}\".format(age_avg_pr.iloc[7]))],\n",
    "            \"Total Purchase Value\": [\"$\" + str(\"{:.2f}\".format(age_pr_total.iloc[0])), \"$\" + str(\"{:.2f}\".format(age_pr_total.iloc[1])),\n",
    "                                     \"$\" + str(\"{:.2f}\".format(age_pr_total.iloc[2])), \"$\" + str(\"{:.2f}\".format(age_pr_total.iloc[3])),\n",
    "                                     \"$\" + str(\"{:.2f}\".format(age_pr_total.iloc[4])), \"$\" + str(\"{:.2f}\".format(age_pr_total.iloc[5])),\n",
    "                                     \"$\" + str(\"{:.2f}\".format(age_pr_total.iloc[6])), \"$\" + str(\"{:.2f}\".format(age_pr_total.iloc[7]))],\n",
    "            \"Avg Total Purchase per Person\": [\"$\" + str(\"{:.2f}\".format(avg_per_person.iloc[0])), \"$\" + str(\"{:.2f}\".format(avg_per_person.iloc[1])),\n",
    "                                              \"$\" + str(\"{:.2f}\".format(avg_per_person.iloc[2])), \"$\" + str(\"{:.2f}\".format(avg_per_person.iloc[3])),\n",
    "                                              \"$\" + str(\"{:.2f}\".format(avg_per_person.iloc[4])), \"$\" + str(\"{:.2f}\".format(avg_per_person.iloc[5])),\n",
    "                                              \"$\" + str(\"{:.2f}\".format(avg_per_person.iloc[6])), \"$\" + str(\"{:.2f}\".format(avg_per_person.iloc[7]))]}\n",
    "\n",
    "#create dataframe from dictionary using bin_labels as the index\n",
    "age_df2 = pd.DataFrame(age_data2, index = bin_labels)\n",
    "\n",
    "\n",
    "print(age_df2)"
   ]
  },
  {
   "cell_type": "markdown",
   "metadata": {},
   "source": [
    "## Top Spenders"
   ]
  },
  {
   "cell_type": "markdown",
   "metadata": {},
   "source": [
    "* Run basic calculations to obtain the results in the table below\n",
    "\n",
    "\n",
    "* Create a summary data frame to hold the results\n",
    "\n",
    "\n",
    "* Sort the total purchase value column in descending order\n",
    "\n",
    "\n",
    "* Optional: give the displayed data cleaner formatting\n",
    "\n",
    "\n",
    "* Display a preview of the summary data frame\n",
    "\n"
   ]
  },
  {
   "cell_type": "code",
   "execution_count": 11,
   "metadata": {},
   "outputs": [
    {
     "name": "stdout",
     "output_type": "stream",
     "text": [
      "             Purchase Count Average Purchase Price Total Purchase Value\n",
      "SN                                                                     \n",
      "Lisosia93                 5                  $3.79               $18.96\n",
      "Idastidru52               4                  $3.86               $15.45\n",
      "Chamjask73                3                  $4.61               $13.83\n",
      "Iral74                    4                  $3.40               $13.62\n",
      "Iskadarya95               3                  $4.37               $13.10\n"
     ]
    }
   ],
   "source": [
    "#determine amonut of purchases by each account\n",
    "pr_count = purchase_data.groupby(\"SN\")[\"SN\"].count()\n",
    "\n",
    "#determine the average amount spent for each account\n",
    "avg_pr = purchase_data.groupby(\"SN\")[\"Price\"].mean()\n",
    "\n",
    "#determine total amount spent for each account\n",
    "total_pr = purchase_data.groupby(\"SN\")[\"Price\"].sum()\n",
    "\n",
    "#concatenate the three series created above\n",
    "top_spenders = pd.concat([pr_count, avg_pr, total_pr], axis =1)\n",
    "\n",
    "#rename columns\n",
    "top_spenders.columns.values[0] = \"Purchase Count\"\n",
    "top_spenders.columns.values[1] = \"Average Purchase Price\"\n",
    "top_spenders.columns.values[2] = \"Total Purchase Value\"\n",
    "\n",
    "#sort the dataframe\n",
    "top_spenders = top_spenders.sort_values(by = [\"Total Purchase Value\"], ascending= False)\n",
    "\n",
    "#iterate over \"Average Purchase Price\" and \"Total PUrchase Value\" to apply formatting\n",
    "for x in range(len(avg_pr)):\n",
    "    top_spenders.iloc[x, 1] = \"$\" + str(\"{:.2f}\".format(top_spenders.iloc[x, 1]))\n",
    "    top_spenders.iloc[x, 2] = \"$\" + str(\"{:.2f}\".format(top_spenders.iloc[x, 2]))\n",
    "\n",
    "\n",
    "print(top_spenders.head())"
   ]
  },
  {
   "cell_type": "markdown",
   "metadata": {},
   "source": [
    "## Most Popular Items"
   ]
  },
  {
   "cell_type": "markdown",
   "metadata": {},
   "source": [
    "* Retrieve the Item ID, Item Name, and Item Price columns\n",
    "\n",
    "\n",
    "* Group by Item ID and Item Name. Perform calculations to obtain purchase count, average item price, and total purchase value\n",
    "\n",
    "\n",
    "* Create a summary data frame to hold the results\n",
    "\n",
    "\n",
    "* Sort the purchase count column in descending order\n",
    "\n",
    "\n",
    "* Optional: give the displayed data cleaner formatting\n",
    "\n",
    "\n",
    "* Display a preview of the summary data frame\n",
    "\n"
   ]
  },
  {
   "cell_type": "code",
   "execution_count": 12,
   "metadata": {},
   "outputs": [
    {
     "name": "stdout",
     "output_type": "stream",
     "text": [
      "                                                      Purchase Count  \\\n",
      "Item ID Item Name                                                      \n",
      "92      Final Critic                                              13   \n",
      "178     Oathbreaker, Last Hope of the Breaking Storm              12   \n",
      "145     Fiery Glass Crusader                                       9   \n",
      "132     Persuasion                                                 9   \n",
      "108     Extraction, Quickblade Of Trembling Hands                  9   \n",
      "\n",
      "                                                     Item Price  \\\n",
      "Item ID Item Name                                                 \n",
      "92      Final Critic                                      $4.19   \n",
      "178     Oathbreaker, Last Hope of the Breaking Storm      $4.23   \n",
      "145     Fiery Glass Crusader                              $4.58   \n",
      "132     Persuasion                                        $3.33   \n",
      "108     Extraction, Quickblade Of Trembling Hands         $3.53   \n",
      "\n",
      "                                                     Total Purchase Value  \n",
      "Item ID Item Name                                                          \n",
      "92      Final Critic                                               $59.99  \n",
      "178     Oathbreaker, Last Hope of the Breaking Storm               $50.76  \n",
      "145     Fiery Glass Crusader                                       $41.22  \n",
      "132     Persuasion                                                 $28.99  \n",
      "108     Extraction, Quickblade Of Trembling Hands                  $31.77  \n"
     ]
    }
   ],
   "source": [
    "#determine the amount of times each item was purchased\n",
    "item_pcount = purchase_data.groupby([\"Item ID\", \"Item Name\"])[\"Item ID\"].count()\n",
    "\n",
    "#create a series for the price of each item\n",
    "item_price = purchase_data.groupby([\"Item ID\", \"Item Name\"])[\"Price\"].last()\n",
    "\n",
    "#determine the total amount spent for each item\n",
    "total_pr_value= purchase_data.groupby([\"Item ID\", \"Item Name\"])[\"Price\"].sum()\n",
    "\n",
    "#concatenate the three series from above\n",
    "top_items = pd.concat([item_pcount, item_price, total_pr_value], axis =1)\n",
    "\n",
    "#assign column names\n",
    "top_items.columns.values[0] = \"Purchase Count\"\n",
    "top_items.columns.values[1] = \"Item Price\"\n",
    "top_items.columns.values[2] = \"Total Purchase Value\"\n",
    "\n",
    "#create a copy of top_items \n",
    "top_items2 = top_items.copy()\n",
    "\n",
    "#sort top_items by \"Purchase Count\"\n",
    "top_items = top_items.sort_values(by = [\"Purchase Count\"], ascending= False)\n",
    "\n",
    "#sort top_items2 by \"Total Purchase Value\"\n",
    "top_items2 = top_items2.sort_values(by = [\"Total Purchase Value\"], ascending= False)\n",
    "\n",
    "#iterate over \"Item Price\" and \"Total PUrchase Value\" to apply formatting\n",
    "for x in range(len(item_pcount)):\n",
    "    top_items.iloc[x, 1] = \"$\" + str(\"{:.2f}\".format(top_items.iloc[x, 1]))\n",
    "    top_items.iloc[x, 2] = \"$\" + str(\"{:.2f}\".format(top_items.iloc[x, 2]))\n",
    "\n",
    "\n",
    "print(top_items.head())\n",
    "\n"
   ]
  },
  {
   "cell_type": "markdown",
   "metadata": {},
   "source": [
    "## Most Profitable Items"
   ]
  },
  {
   "cell_type": "markdown",
   "metadata": {},
   "source": [
    "* Sort the above table by total purchase value in descending order\n",
    "\n",
    "\n",
    "* Optional: give the displayed data cleaner formatting\n",
    "\n",
    "\n",
    "* Display a preview of the data frame\n",
    "\n"
   ]
  },
  {
   "cell_type": "code",
   "execution_count": 13,
   "metadata": {
    "scrolled": true
   },
   "outputs": [
    {
     "name": "stdout",
     "output_type": "stream",
     "text": [
      "                                                      Purchase Count  \\\n",
      "Item ID Item Name                                                      \n",
      "92      Final Critic                                              13   \n",
      "178     Oathbreaker, Last Hope of the Breaking Storm              12   \n",
      "82      Nirvana                                                    9   \n",
      "145     Fiery Glass Crusader                                       9   \n",
      "103     Singed Scalpel                                             8   \n",
      "\n",
      "                                                     Item Price  \\\n",
      "Item ID Item Name                                                 \n",
      "92      Final Critic                                      $4.19   \n",
      "178     Oathbreaker, Last Hope of the Breaking Storm      $4.23   \n",
      "82      Nirvana                                           $4.90   \n",
      "145     Fiery Glass Crusader                              $4.58   \n",
      "103     Singed Scalpel                                    $4.35   \n",
      "\n",
      "                                                     Total Purchase Value  \n",
      "Item ID Item Name                                                          \n",
      "92      Final Critic                                               $59.99  \n",
      "178     Oathbreaker, Last Hope of the Breaking Storm               $50.76  \n",
      "82      Nirvana                                                    $44.10  \n",
      "145     Fiery Glass Crusader                                       $41.22  \n",
      "103     Singed Scalpel                                             $34.80  \n"
     ]
    }
   ],
   "source": [
    "#iterate over \"Average Purchase Price\" and \"Total PUrchase Value\" to apply formatting\n",
    "for x in range(len(item_pcount)):\n",
    "    top_items2.iloc[x, 1] = \"$\" + str(\"{:.2f}\".format(top_items2.iloc[x, 1]))\n",
    "    top_items2.iloc[x, 2] = \"$\" + str(\"{:.2f}\".format(top_items2.iloc[x, 2]))\n",
    "print(top_items2.head())"
   ]
  },
  {
   "cell_type": "code",
   "execution_count": null,
   "metadata": {},
   "outputs": [],
   "source": []
  }
 ],
 "metadata": {
  "anaconda-cloud": {},
  "kernel_info": {
   "name": "python3"
  },
  "kernelspec": {
   "display_name": "Python 3",
   "language": "python",
   "name": "python3"
  },
  "language_info": {
   "codemirror_mode": {
    "name": "ipython",
    "version": 3
   },
   "file_extension": ".py",
   "mimetype": "text/x-python",
   "name": "python",
   "nbconvert_exporter": "python",
   "pygments_lexer": "ipython3",
   "version": "3.8.3"
  },
  "latex_envs": {
   "LaTeX_envs_menu_present": true,
   "autoclose": false,
   "autocomplete": true,
   "bibliofile": "biblio.bib",
   "cite_by": "apalike",
   "current_citInitial": 1,
   "eqLabelWithNumbers": true,
   "eqNumInitial": 1,
   "hotkeys": {
    "equation": "Ctrl-E",
    "itemize": "Ctrl-I"
   },
   "labels_anchors": false,
   "latex_user_defs": false,
   "report_style_numbering": false,
   "user_envs_cfg": false
  },
  "nteract": {
   "version": "0.2.0"
  }
 },
 "nbformat": 4,
 "nbformat_minor": 4
}
